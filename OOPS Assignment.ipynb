{
  "cells": [
    {
      "cell_type": "code",
      "execution_count": null,
      "metadata": {
        "id": "KjeqdqCYqTHb"
      },
      "outputs": [],
      "source": []
    },
    {
      "cell_type": "markdown",
      "metadata": {
        "id": "AucmPTkUq_pO"
      },
      "source": [
        "# Q1- What are the five key concepts of Object-Oriented Programming (OOP)?\n",
        "\n",
        "The five key concepts of Object-Oriented Programming (OOP) are:\n",
        "\n",
        "1. **Encapsulation**: This is the bundling of data (attributes) and methods (functions) that operate on the data into a single unit, called an object. It restricts direct access to some of the object's components, which helps protect the object's integrity.\n",
        "\n",
        "2. **Abstraction**: Abstraction involves hiding complex implementation details and showing only the necessary features of an object. This simplifies interactions and helps users understand the essential characteristics without being overwhelmed by details.\n",
        "\n",
        "3. **Inheritance**: Inheritance allows a new class (subclass) to inherit attributes and methods from an existing class (superclass). This promotes code reusability and establishes a hierarchical relationship between classes.\n",
        "\n",
        "4. **Polymorphism**: Polymorphism enables methods to do different things based on the object they are acting upon, even if they share the same name. This can be achieved through method overriding (in subclasses) or method overloading (within the same class).\n",
        "\n",
        "5. **Classes and Objects**: A class is a blueprint for creating objects, defining the attributes and methods that the objects will have. An object is an instance of a class, representing a specific implementation of that class's structure and behavior.\n",
        "\n",
        "These concepts work together to enable better organization, modularity, and maintainability in software development."
      ]
    },
    {
      "cell_type": "markdown",
      "metadata": {
        "id": "bNB515MBrb6D"
      },
      "source": [
        "# Q2- Write a Python class for a `Car` with attributes for `make`, `model`, and `year`. Include a method to display\n",
        "the car's information.\n",
        "\n",
        "Certainly! Here’s a simple Python class for a Car that includes attributes for make, model, and year, along with a method to display the car's information:"
      ]
    },
    {
      "cell_type": "code",
      "execution_count": null,
      "metadata": {
        "id": "Ky-b1hmfr12a"
      },
      "outputs": [],
      "source": [
        "class Car:\n",
        "    def __init__(self, make, model, year):\n",
        "        self.make = make\n",
        "        self.model = model\n",
        "        self.year = year\n",
        "\n",
        "    def display_info(self):\n",
        "        print(f\"Car Make: {self.make}\")\n",
        "        print(f\"Car Model: {self.model}\")\n",
        "        print(f\"Car Year: {self.year}\")\n",
        "\n",
        "# Example usage\n",
        "my_car = Car(\"Toyota\", \"Camry\", 2020)\n",
        "my_car.display_info()"
      ]
    },
    {
      "cell_type": "markdown",
      "metadata": {
        "id": "Hyp2Q5ivr6fY"
      },
      "source": [
        "When you run the example usage, it will output:"
      ]
    },
    {
      "cell_type": "code",
      "execution_count": null,
      "metadata": {
        "id": "ujiJbQyQsHlE"
      },
      "outputs": [],
      "source": [
        "Car Make: Toyota\n",
        "Car Model: Camry\n",
        "Car Year: 2020"
      ]
    },
    {
      "cell_type": "markdown",
      "metadata": {
        "id": "imS9Z1UvsXAx"
      },
      "source": [
        "# Q3- Explain the difference between instance methods and class methods. Provide an example of each.\n",
        "\n",
        "\n",
        "\n",
        "\n",
        "In Python, instance methods and class methods serve different purposes and have different accessibilities within a class.\n",
        "\n",
        "Instance Methods\n",
        "Definition: Instance methods are functions defined within a class that operate on instances of that class. They take self as their first parameter, which refers to the specific instance of the class.\n",
        "Usage: These methods can access and modify instance attributes.\n",
        "Example of an Instance Method:"
      ]
    },
    {
      "cell_type": "code",
      "execution_count": null,
      "metadata": {
        "id": "g8J7_qCWs53I"
      },
      "outputs": [],
      "source": [
        "class Dog:\n",
        "    def __init__(self, name, age):\n",
        "        self.name = name\n",
        "        self.age = age\n",
        "\n",
        "    def bark(self):\n",
        "        return f\"{self.name} says woof!\"\n",
        "\n",
        "# Example usage\n",
        "my_dog = Dog(\"Buddy\", 3)\n",
        "print(my_dog.bark())  # Output: Buddy says woof!"
      ]
    },
    {
      "cell_type": "markdown",
      "metadata": {
        "id": "PeGFch81tBK1"
      },
      "source": [
        "Class Methods\n",
        "Definition: Class methods are functions defined within a class that are bound to the class itself rather than an instance. They take cls as their first parameter, which refers to the class.\n",
        "Usage: These methods can access class attributes and are often used for factory methods or methods that need to affect the class as a whole rather than individual instances.\n",
        "Example of a Class Method:"
      ]
    },
    {
      "cell_type": "code",
      "execution_count": null,
      "metadata": {
        "id": "mM949QUCtGqn"
      },
      "outputs": [],
      "source": [
        "class Dog:\n",
        "    number_of_legs = 4\n",
        "\n",
        "    @classmethod\n",
        "    def legs(cls):\n",
        "        return f\"All dogs have {cls.number_of_legs} legs.\"\n",
        "\n",
        "# Example usage\n",
        "print(Dog.legs())  # Output: All dogs have 4 legs."
      ]
    },
    {
      "cell_type": "markdown",
      "metadata": {
        "id": "knF5kSBPtOzV"
      },
      "source": [
        "Summary\n",
        "Instance methods work with instance-specific data and are called on instances of the class.\n",
        "Class methods operate on the class itself and can be called without creating an instance.\n",
        "Both types of methods play important roles in structuring and managing data within a class."
      ]
    },
    {
      "cell_type": "markdown",
      "metadata": {
        "id": "vZViTN6ntmd9"
      },
      "source": [
        "# Q4- How does Python implement method overloading? Give an example.\n",
        "\n",
        "Python does not support method overloading in the same way that some other programming languages do (like Java or C++). Instead, Python allows you to define a method with the same name multiple times, but only the last defined method will be recognized.\n",
        "\n",
        "However, you can achieve similar functionality through default parameters, variable-length arguments, or by using conditionals within a single method to handle different types or numbers of arguments.\n",
        "\n",
        "Example Using Default Parameters"
      ]
    },
    {
      "cell_type": "code",
      "execution_count": null,
      "metadata": {
        "id": "-Z8b9Z-st3RW"
      },
      "outputs": [],
      "source": [
        "class Calculator:\n",
        "    def add(self, a, b=0, c=0):\n",
        "        return a + b + c\n",
        "\n",
        "# Example usage\n",
        "calc = Calculator()\n",
        "print(calc.add(5))          # Output: 5 (5 + 0 + 0)\n",
        "print(calc.add(5, 10))      # Output: 15 (5 + 10 + 0)\n",
        "print(calc.add(5, 10, 15))  # Output: 30 (5 + 10 + 15)\n",
        "\n",
        "Example Using Variable-Length Arguments\n",
        "\n",
        "\n",
        "class Calculator:\n",
        "    def add(self, *args):\n",
        "        return sum(args)\n",
        "\n",
        "# Example usage\n",
        "calc = Calculator()\n",
        "print(calc.add(5))                  # Output: 5\n",
        "print(calc.add(5, 10))              # Output: 15\n",
        "print(calc.add(5, 10, 15, 20))      # Output: 50"
      ]
    },
    {
      "cell_type": "markdown",
      "metadata": {
        "id": "qhpREa6MuGrW"
      },
      "source": [
        "Summary\n",
        "In both examples, you can see how we simulate method overloading by either using default parameters or variable-length arguments. This flexibility allows the same method name to handle different numbers of arguments, achieving similar functionality to traditional method overloading.\n",
        "\n",
        "\n",
        "\n"
      ]
    },
    {
      "cell_type": "markdown",
      "metadata": {
        "id": "_IF1vVnDuWjZ"
      },
      "source": [
        "# Q5- What are the three types of access modifiers in Python? How are they denoted?\n",
        "\n",
        "In Python, access modifiers control the visibility of class attributes and methods. The three types of access modifiers are:\n",
        "\n",
        "1. Public\n",
        "Definition: Attributes and methods that are accessible from outside the class.\n",
        "Denotation: No special prefix is used; they are defined normally.\n",
        "Example:"
      ]
    },
    {
      "cell_type": "code",
      "execution_count": null,
      "metadata": {
        "id": "LbXnyoTfuycy"
      },
      "outputs": [],
      "source": [
        "class Example:\n",
        "    def __init__(self):\n",
        "        self.public_attribute = \"I am public\"\n",
        "\n",
        "example = Example()\n",
        "print(example.public_attribute)  # Output: I am public"
      ]
    },
    {
      "cell_type": "markdown",
      "metadata": {
        "id": "lNHXi6Upu3OP"
      },
      "source": [
        "2. Protected\n",
        "Definition: Attributes and methods intended for internal use within the class and its subclasses. They should not be accessed directly from outside the class hierarchy.\n",
        "Denotation: Prefixed with a single underscore (_).\n",
        "Example:"
      ]
    },
    {
      "cell_type": "code",
      "execution_count": null,
      "metadata": {
        "id": "SW7g_5-Yu63p"
      },
      "outputs": [],
      "source": [
        "class Example:\n",
        "    def __init__(self):\n",
        "        self._protected_attribute = \"I am protected\"\n",
        "\n",
        "example = Example()\n",
        "print(example._protected_attribute)  # Output: I am protected (accessible, but not recommended)"
      ]
    },
    {
      "cell_type": "markdown",
      "metadata": {
        "id": "9zUL8vx3u_VD"
      },
      "source": [
        "3. Private\n",
        "Definition: Attributes and methods that are intended to be inaccessible from outside the class. They are meant for internal use only.\n",
        "Denotation: Prefixed with a double underscore (__), which triggers name mangling.\n",
        "Example:"
      ]
    },
    {
      "cell_type": "code",
      "execution_count": null,
      "metadata": {
        "id": "OD4bK8W8vC-S"
      },
      "outputs": [],
      "source": [
        "class Example:\n",
        "    def __init__(self):\n",
        "        self.__private_attribute = \"I am private\"\n",
        "\n",
        "    def get_private_attribute(self):\n",
        "        return self.__private_attribute\n",
        "\n",
        "example = Example()\n",
        "# print(example.__private_attribute)  # This would raise an AttributeError\n",
        "print(example.get_private_attribute())  # Output: I am private"
      ]
    },
    {
      "cell_type": "markdown",
      "metadata": {
        "id": "mMJPQXNwOnXK"
      },
      "source": [
        "# Q6- Describe the five types of inheritance in Python. Provide a simple example of multiple inheritance.\n",
        "\n",
        "In Python, inheritance allows a class to inherit attributes and methods from another class. There are five main types of inheritance:\n",
        "\n",
        "Single Inheritance: A derived class inherits from one base class."
      ]
    },
    {
      "cell_type": "code",
      "execution_count": null,
      "metadata": {
        "id": "slwmzu8JPKxn"
      },
      "outputs": [],
      "source": [
        "class Animal:\n",
        "    def speak(self):\n",
        "        return \"Animal speaks\"\n",
        "\n",
        "class Dog(Animal):\n",
        "    def bark(self):\n",
        "        return \"Bark\"\n",
        "\n",
        "dog = Dog()\n",
        "print(dog.speak())  # Output: Animal speaks\n",
        "\n",
        "Multiple Inheritance: A derived class inherits from more than one base class.\n",
        "\n",
        "class Flyable:\n",
        "    def fly(self):\n",
        "        return \"Flying\"\n",
        "\n",
        "class Swimmable:\n",
        "    def swim(self):\n",
        "        return \"Swimming\"\n",
        "\n",
        "class Duck(Flyable, Swimmable):\n",
        "    def quack(self):\n",
        "        return \"Quack\"\n",
        "\n",
        "duck = Duck()\n",
        "print(duck.fly())  # Output: Flying\n",
        "print(duck.swim()) # Output: Swimming\n",
        "\n",
        "Multilevel Inheritance: A class is derived from another derived class.\n",
        "\n",
        "class Animal:\n",
        "    def speak(self):\n",
        "        return \"Animal speaks\"\n",
        "\n",
        "class Dog(Animal):\n",
        "    def bark(self):\n",
        "        return \"Bark\"\n",
        "\n",
        "class Puppy(Dog):\n",
        "    def weep(self):\n",
        "        return \"Whimper\"\n",
        "\n",
        "puppy = Puppy()\n",
        "print(puppy.speak())  # Output: Animal speaks\n",
        "\n",
        "Hierarchical Inheritance: Multiple classes inherit from the same base class.\n",
        "\n",
        "class Animal:\n",
        "    def speak(self):\n",
        "        return \"Animal speaks\"\n",
        "\n",
        "class Dog(Animal):\n",
        "    def bark(self):\n",
        "        return \"Bark\"\n",
        "\n",
        "class Cat(Animal):\n",
        "    def meow(self):\n",
        "        return \"Meow\"\n",
        "\n",
        "dog = Dog()\n",
        "cat = Cat()\n",
        "print(dog.speak())  # Output: Animal speaks\n",
        "print(cat.speak())  # Output: Animal speaks\n",
        "\n",
        "Hybrid Inheritance: A combination of two or more types of inheritance.\n",
        "\n",
        "class A:\n",
        "    pass\n",
        "\n",
        "class B(A):\n",
        "    pass\n",
        "\n",
        "class C(A):\n",
        "    pass\n",
        "\n",
        "class D(B, C):  # Hybrid inheritance\n",
        "    pass\n",
        "\n",
        "Example of Multiple Inheritance\n",
        "Here’s a more detailed example of multiple inheritance using the Flyable and Swimmable classes:\n",
        "\n",
        "class Flyable:\n",
        "    def fly(self):\n",
        "        return \"Flying\"\n",
        "\n",
        "class Swimmable:\n",
        "    def swim(self):\n",
        "        return \"Swimming\"\n",
        "\n",
        "class Duck(Flyable, Swimmable):\n",
        "    def quack(self):\n",
        "        return \"Quack\"\n",
        "\n",
        "# Create a Duck instance\n",
        "duck = Duck()\n",
        "print(duck.fly())   # Output: Flying\n",
        "print(duck.swim())  # Output: Swimming\n",
        "print(duck.quack()) # Output: Quack\n"
      ]
    },
    {
      "cell_type": "markdown",
      "metadata": {
        "id": "P7_MrbRWP3Ka"
      },
      "source": [
        "# Q7- What is the Method Resolution Order (MRO) in Python? How can you retrieve it programmatically?\n",
        "\n",
        "Method Resolution Order (MRO) in Python refers to the order in which base classes are searched when executing a method. It’s particularly important in cases of multiple inheritance, where a class may inherit from more than one parent class. The MRO defines the sequence of classes that Python will check for a method or attribute.\n",
        "\n",
        "Python uses the C3 linearization algorithm to determine the MRO, which ensures that:\n",
        "\n",
        "A class is always before its parents.\n",
        "The order of the parents is preserved.\n",
        "If a class appears in multiple inheritance paths, it is only considered once.\n",
        "Retrieving MRO Programmatically\n",
        "You can retrieve the MRO of a class using the __mro__ attribute or the mro() method. Here’s how you can do it:"
      ]
    },
    {
      "cell_type": "code",
      "execution_count": null,
      "metadata": {
        "id": "fVvlp5qgQG8D"
      },
      "outputs": [],
      "source": [
        "class A:\n",
        "    pass\n",
        "\n",
        "class B(A):\n",
        "    pass\n",
        "\n",
        "class C(A):\n",
        "    pass\n",
        "\n",
        "class D(B, C):\n",
        "    pass\n",
        "\n",
        "# Retrieve MRO\n",
        "print(D.__mro__)  # Output: (<class '__main__.D'>, <class '__main__.B'>, <class '__main__.C'>, <class '__main__.A'>, <class 'object'>)\n",
        "\n",
        "# Or using the mro() method\n",
        "print(D.mro())    # Output: [<class '__main__.D'>, <class '__main__.B'>, <class '__main__.C'>, <class '__main__.A'>, <class 'object'>]\n"
      ]
    },
    {
      "cell_type": "markdown",
      "metadata": {
        "id": "Kyo9_OGVQMRE"
      },
      "source": [
        "In this example, the MRO for class D indicates the order in which Python will search the classes when a method is called. The output shows that it will first look in D, then B, then C, followed by A, and finally object.\n",
        "\n",
        "\n",
        "\n"
      ]
    },
    {
      "cell_type": "markdown",
      "metadata": {
        "id": "K85Mi93iQSgc"
      },
      "source": [
        "# Q8- Create an abstract base class `Shape` with an abstract method `area()`. Then create two subclasses\n",
        "`Circle` and `Rectangle` that implement the `area()` method.\n",
        "\n",
        "To create an abstract base class in Python, you can use the abc module, which allows you to define abstract classes and methods. Below is an example of an abstract base class Shape with an abstract method area(), along with two subclasses, Circle and Rectangle, that implement this method.\n",
        "\n",
        "Example Code"
      ]
    },
    {
      "cell_type": "code",
      "execution_count": null,
      "metadata": {
        "id": "Y60WbGcpQkle"
      },
      "outputs": [],
      "source": [
        "from abc import ABC, abstractmethod\n",
        "import math\n",
        "\n",
        "class Shape(ABC):\n",
        "    @abstractmethod\n",
        "    def area(self):\n",
        "        pass\n",
        "\n",
        "class Circle(Shape):\n",
        "    def __init__(self, radius):\n",
        "        self.radius = radius\n",
        "\n",
        "    def area(self):\n",
        "        return math.pi * (self.radius ** 2)\n",
        "\n",
        "class Rectangle(Shape):\n",
        "    def __init__(self, width, height):\n",
        "        self.width = width\n",
        "        self.height = height\n",
        "\n",
        "    def area(self):\n",
        "        return self.width * self.height\n",
        "\n",
        "# Example usage\n",
        "circle = Circle(5)\n",
        "rectangle = Rectangle(4, 6)\n",
        "\n",
        "print(f\"Area of Circle: {circle.area():.2f}\")      # Output: Area of Circle: 78.54\n",
        "print(f\"Area of Rectangle: {rectangle.area():.2f}\")  # Output: Area of Rectangle: 24.00\n"
      ]
    },
    {
      "cell_type": "markdown",
      "metadata": {
        "id": "Sh9wa9E0QpjD"
      },
      "source": [
        "Explanation\n",
        "Abstract Base Class: The Shape class is defined as an abstract base class by inheriting from ABC. It has an abstract method area() that must be implemented by any subclass.\n",
        "\n",
        "Circle Class: The Circle class inherits from Shape and implements the area() method using the formula for the area of a circle:\n",
        "𝜋\n",
        "𝑟\n",
        "2\n",
        "πr\n",
        "2\n",
        " .\n",
        "\n",
        "Rectangle Class: The Rectangle class also inherits from Shape and implements the area() method using the formula for the area of a rectangle: width × height.\n",
        "\n",
        "Usage: Instances of Circle and Rectangle are created, and their area() methods are called to calculate and print the respective areas.\n",
        "\n",
        "\n",
        "\n"
      ]
    },
    {
      "cell_type": "markdown",
      "metadata": {
        "id": "zm4rbkA3QuQo"
      },
      "source": [
        "# Q9- Demonstrate polymorphism by creating a function that can work with different shape objects to calculate\n",
        "and print their areas.\n",
        "\n",
        "Polymorphism allows functions to use objects of different classes as if they were objects of a common superclass. In this case, we can create a function that takes any shape object and calculates its area, demonstrating polymorphism.\n",
        "\n",
        "Here's how you can do it using the Shape, Circle, and Rectangle classes defined previously:\n",
        "\n",
        "Example Code\n"
      ]
    },
    {
      "cell_type": "code",
      "execution_count": null,
      "metadata": {
        "id": "Ajxin7qnQ7_l"
      },
      "outputs": [],
      "source": [
        "from abc import ABC, abstractmethod\n",
        "import math\n",
        "\n",
        "class Shape(ABC):\n",
        "    @abstractmethod\n",
        "    def area(self):\n",
        "        pass\n",
        "\n",
        "class Circle(Shape):\n",
        "    def __init__(self, radius):\n",
        "        self.radius = radius\n",
        "\n",
        "    def area(self):\n",
        "        return math.pi * (self.radius ** 2)\n",
        "\n",
        "class Rectangle(Shape):\n",
        "    def __init__(self, width, height):\n",
        "        self.width = width\n",
        "        self.height = height\n",
        "\n",
        "    def area(self):\n",
        "        return self.width * self.height\n",
        "\n",
        "# Function to calculate and print area\n",
        "def print_area(shape: Shape):\n",
        "    print(f\"The area is: {shape.area():.2f}\")\n",
        "\n",
        "# Example usage\n",
        "circle = Circle(5)\n",
        "rectangle = Rectangle(4, 6)\n",
        "\n",
        "print_area(circle)      # Output: The area is: 78.54\n",
        "print_area(rectangle)   # Output: The area is: 24.00\n"
      ]
    },
    {
      "cell_type": "markdown",
      "metadata": {
        "id": "qXFHgpwcRCLt"
      },
      "source": [
        "Explanation\n",
        "Polymorphism: The print_area function takes a parameter shape of type Shape. This means it can accept any object that is an instance of Shape or its subclasses.\n",
        "\n",
        "Functionality: Inside the print_area function, the area() method is called on the shape object. This method will work correctly regardless of whether the object is a Circle or a Rectangle, thanks to polymorphism.\n",
        "\n",
        "Usage: Instances of Circle and Rectangle are created, and the print_area function is called with each instance. The output shows the areas calculated based on the specific implementation of the area() method in each class.\n",
        "\n",
        "This demonstrates how polymorphism allows for flexibility and code reuse, making the program extensible to new shape types without modifying existing code.\n",
        "\n",
        "\n",
        "\n"
      ]
    },
    {
      "cell_type": "markdown",
      "metadata": {
        "id": "zmlxoMJ1RMbY"
      },
      "source": [
        "# Q10- Implement encapsulation in a `BankAccount` class with private attributes for `balance` and\n",
        "`account_number`. Include methods for deposit, withdrawal, and balance inquiry.\n",
        "\n",
        "Encapsulation in Python can be achieved by using private attributes (usually prefixed with an underscore) and providing public methods to access or modify those attributes. Below is an implementation of a BankAccount class that demonstrates encapsulation through private attributes for balance and account_number.\n",
        "\n",
        "Example Code"
      ]
    },
    {
      "cell_type": "code",
      "execution_count": null,
      "metadata": {
        "id": "91cE0VjRRalN"
      },
      "outputs": [],
      "source": [
        "class BankAccount:\n",
        "    def __init__(self, account_number, initial_balance=0):\n",
        "        self._account_number = account_number  # Private attribute\n",
        "        self._balance = initial_balance          # Private attribute\n",
        "\n",
        "    def deposit(self, amount):\n",
        "        if amount > 0:\n",
        "            self._balance += amount\n",
        "            print(f\"Deposited: ${amount:.2f}\")\n",
        "        else:\n",
        "            print(\"Deposit amount must be positive.\")\n",
        "\n",
        "    def withdraw(self, amount):\n",
        "        if 0 < amount <= self._balance:\n",
        "            self._balance -= amount\n",
        "            print(f\"Withdrawn: ${amount:.2f}\")\n",
        "        else:\n",
        "            print(\"Insufficient funds or invalid withdrawal amount.\")\n",
        "\n",
        "    def get_balance(self):\n",
        "        return self._balance\n",
        "\n",
        "    def get_account_number(self):\n",
        "        return self._account_number\n",
        "\n",
        "# Example usage\n",
        "account = BankAccount(\"12345678\", 1000)\n",
        "\n",
        "account.deposit(500)           # Output: Deposited: $500.00\n",
        "account.withdraw(200)          # Output: Withdrawn: $200.00\n",
        "print(f\"Current Balance: ${account.get_balance():.2f}\")  # Output: Current Balance: $1300.00\n",
        "print(f\"Account Number: {account.get_account_number()}\")  # Output: Account Number: 12345678\n",
        "\n",
        "account.withdraw(1500)         # Output: Insufficient funds or invalid withdrawal amount.\n"
      ]
    },
    {
      "cell_type": "markdown",
      "metadata": {
        "id": "8ZjbpGqRRj3i"
      },
      "source": [
        "Explanation\n",
        "Private Attributes: The BankAccount class has two private attributes: _account_number and _balance. The underscore prefix indicates that these attributes are intended to be private.\n",
        "\n",
        "Public Methods:\n",
        "\n",
        "deposit(amount): Increases the balance by the specified amount if it is positive.\n",
        "withdraw(amount): Decreases the balance by the specified amount if sufficient funds are available.\n",
        "get_balance(): Returns the current balance.\n",
        "get_account_number(): Returns the account number.\n",
        "Usage: An instance of BankAccount is created, and various operations (deposit, withdrawal, balance inquiry) are performed using the public methods. This encapsulates the internal workings of the account, preventing direct access to the private attributes.\n",
        "\n",
        "\n",
        "\n"
      ]
    },
    {
      "cell_type": "markdown",
      "metadata": {
        "id": "DsFYMzgPYtk1"
      },
      "source": [
        "# Q11- Write a class that overrides the `__str__` and `__add__` magic methods. What will these methods allow\n",
        "you to do?\n",
        "\n",
        "To illustrate how to override the __str__ and __add__ magic methods in a class, let's create a simple Vector class. This class will represent a mathematical vector and will allow us to easily format its output as a string and to add two vectors together using the + operator.\n",
        "\n",
        "Here's how the class might look:"
      ]
    },
    {
      "cell_type": "code",
      "execution_count": null,
      "metadata": {
        "id": "0LkgkD1zZFRx"
      },
      "outputs": [],
      "source": [
        "class Vector:\n",
        "    def __init__(self, x, y):\n",
        "        self.x = x\n",
        "        self.y = y\n",
        "\n",
        "    def __str__(self):\n",
        "        \"\"\"Override the string representation of the object.\"\"\"\n",
        "        return f\"Vector({self.x}, {self.y})\"\n",
        "\n",
        "    def __add__(self, other):\n",
        "        \"\"\"Override the addition operator to add two vectors.\"\"\"\n",
        "        if isinstance(other, Vector):\n",
        "            return Vector(self.x + other.x, self.y + other.y)\n",
        "        return NotImplemented\n",
        "\n",
        "# Example usage:\n",
        "v1 = Vector(2, 3)\n",
        "v2 = Vector(4, 5)\n",
        "\n",
        "# Using __str__ method\n",
        "print(v1)  # Output: Vector(2, 3)\n",
        "\n",
        "# Using __add__ method\n",
        "v3 = v1 + v2\n",
        "print(v3)  # Output: Vector(6, 8)\n"
      ]
    },
    {
      "cell_type": "markdown",
      "metadata": {
        "id": "_Q6FtswZZME0"
      },
      "source": [
        "Explanation:\n",
        "\n",
        "__str__ Method:\n",
        "\n",
        "This method is called when you use print() or str() on an instance of the class. In this case, it formats the vector as a string in the form Vector(x, y). This makes it easy to read and understand the vector's contents.\n",
        "\n",
        "__add__ Method:\n",
        "\n",
        "This method allows you to use the + operator to add two Vector instances together. It checks if the other operand is also a Vector and then creates a new Vector instance that contains the sum of the respective components. If the operand is not a Vector, it returns NotImplemented, which is a way to indicate that the operation isn't supported for the given type.\n",
        "Benefits:\n",
        "By overriding these methods, you provide a clear, human-readable string representation of your objects and allow intuitive mathematical operations, making your class more user-friendly and expressive.\n",
        "\n",
        "\n"
      ]
    },
    {
      "cell_type": "markdown",
      "metadata": {
        "id": "UqSl-VJVZblb"
      },
      "source": [
        "# Q12- Create a decorator that measures and prints the execution time of a function.\n",
        "\n",
        "Creating a decorator to measure and print the execution time of a function in Python is straightforward. Below is an example of such a decorator:"
      ]
    },
    {
      "cell_type": "code",
      "execution_count": null,
      "metadata": {
        "id": "ZpQdn7FuZlmN"
      },
      "outputs": [],
      "source": [
        "import time\n",
        "from functools import wraps\n",
        "\n",
        "def time_execution(func):\n",
        "    @wraps(func)\n",
        "    def wrapper(*args, **kwargs):\n",
        "        start_time = time.time()  # Record the start time\n",
        "        result = func(*args, **kwargs)  # Call the original function\n",
        "        end_time = time.time()  # Record the end time\n",
        "        execution_time = end_time - start_time  # Calculate the duration\n",
        "        print(f\"Execution time of {func.__name__}: {execution_time:.6f} seconds\")\n",
        "        return result  # Return the result of the function\n",
        "    return wrapper\n",
        "\n",
        "# Example usage:\n",
        "@time_execution\n",
        "def example_function(n):\n",
        "    total = 0\n",
        "    for i in range(n):\n",
        "        total += i\n",
        "    return total\n",
        "\n",
        "# Call the decorated function\n",
        "result = example_function(1000000)\n"
      ]
    },
    {
      "cell_type": "markdown",
      "metadata": {
        "id": "eP7tPRL1ZruY"
      },
      "source": [
        "Explanation:\n",
        "Importing Modules:\n",
        "\n",
        "We import time to measure the execution time and wraps from functools to preserve the original function's metadata.\n",
        "Decorator Function:\n",
        "\n",
        "time_execution(func) is the decorator function that takes the function func as an argument.\n",
        "Inside it, we define a wrapper function that wraps around func.\n",
        "Measuring Execution Time:\n",
        "\n",
        "We record the start time before calling the original function and the end time immediately after the function completes.\n",
        "The execution time is calculated by subtracting the start time from the end time.\n",
        "Output:\n",
        "\n",
        "The decorator prints the execution time in seconds, formatted to six decimal places.\n",
        "Returning the Result:\n",
        "\n",
        "The result of the original function is returned from the wrapper so that it behaves like the original function.\n",
        "Usage:\n",
        "To use the decorator, simply apply @time_execution above any function you want to measure. When you call that function, it will print its execution time.\n",
        "\n",
        "\n"
      ]
    },
    {
      "cell_type": "markdown",
      "metadata": {
        "id": "y_oCpN5IZ7m6"
      },
      "source": [
        "# Q13- Explain the concept of the Diamond Problem in multiple inheritance. How does Python resolve it?\n",
        "\n",
        "The Diamond Problem is a common issue that arises in multiple inheritance scenarios, particularly when a class inherits from two classes that both inherit from a common base class. The name comes from the diamond-shaped inheritance structure that results from this pattern.\n",
        "\n",
        "Example of the Diamond Problem\n",
        "Consider the following class structure:"
      ]
    },
    {
      "cell_type": "code",
      "execution_count": null,
      "metadata": {
        "id": "G1qr6GQsaGLX"
      },
      "outputs": [],
      "source": [
        "      A\n",
        "     / \\\n",
        "    B   C\n",
        "     \\ /\n",
        "      D\n"
      ]
    },
    {
      "cell_type": "markdown",
      "metadata": {
        "id": "es3NwLk6aMYu"
      },
      "source": [
        "In this structure:\n",
        "\n",
        "Class A is the base class.\n",
        "Classes B and C both inherit from A.\n",
        "Class D inherits from both B and C.\n",
        "If class A has a method (let's say method()) and both B and C override this method, when you call method() on an instance of D, it is unclear which version of method() should be called — the one from B or the one from C.\n",
        "\n",
        "Python's Resolution: Method Resolution Order (MRO)\n",
        "Python uses a mechanism called Method Resolution Order (MRO) to resolve such ambiguities. MRO determines the order in which classes are searched when executing a method. Python employs the C3 linearization algorithm to create a consistent and predictable MRO.\n",
        "\n",
        "How MRO Works\n",
        "Depth-First Search: MRO uses a depth-first, left-to-right search, but it also respects the order of base classes.\n",
        "Linearization: It creates a linear order of classes that ensures:\n",
        "A class precedes its parents.\n",
        "No class appears before its parents in the order.\n",
        "The order is consistent across all paths in the hierarchy.\n",
        "Example in Python\n",
        "Here's how this works in practice:"
      ]
    },
    {
      "cell_type": "code",
      "execution_count": null,
      "metadata": {
        "id": "h-t_o_3zaTH8"
      },
      "outputs": [],
      "source": [
        "class A:\n",
        "    def method(self):\n",
        "        print(\"Method from A\")\n",
        "\n",
        "class B(A):\n",
        "    def method(self):\n",
        "        print(\"Method from B\")\n",
        "\n",
        "class C(A):\n",
        "    def method(self):\n",
        "        print(\"Method from C\")\n",
        "\n",
        "class D(B, C):\n",
        "    pass\n",
        "\n",
        "d = D()\n",
        "d.method()  # Output: Method from B\n"
      ]
    },
    {
      "cell_type": "markdown",
      "metadata": {
        "id": "VVHYilt_aW9w"
      },
      "source": [
        "MRO for Class D\n",
        "You can check the MRO for D using the __mro__ attribute or the mro() method:"
      ]
    },
    {
      "cell_type": "code",
      "execution_count": null,
      "metadata": {
        "id": "SPKEmvKFadC8"
      },
      "outputs": [],
      "source": [
        "print(D.__mro__)\n",
        "# Output: (<class '__main__.D'>, <class '__main__.B'>, <class '__main__.C'>, <class '__main__.A'>, <class 'object'>)\n"
      ]
    },
    {
      "cell_type": "markdown",
      "metadata": {
        "id": "_hhvKwpxaobr"
      },
      "source": [
        "# Q14- Write a class method that keeps track of the number of instances created from a class.\n",
        "\n",
        "To create a class method that tracks the number of instances of a class, you can define a class variable that increments every time a new instance is created. Here's how you can do it:"
      ]
    },
    {
      "cell_type": "code",
      "execution_count": null,
      "metadata": {
        "id": "zN6h-ucda0vC"
      },
      "outputs": [],
      "source": [
        "class InstanceCounter:\n",
        "    # Class variable to keep track of the number of instances\n",
        "    instance_count = 0\n",
        "\n",
        "    def __init__(self):\n",
        "        # Increment the instance count when a new instance is created\n",
        "        InstanceCounter.instance_count += 1\n",
        "\n",
        "    @classmethod\n",
        "    def get_instance_count(cls):\n",
        "        \"\"\"Class method to return the current instance count.\"\"\"\n",
        "        return cls.instance_count\n",
        "\n",
        "# Example usage:\n",
        "obj1 = InstanceCounter()\n",
        "obj2 = InstanceCounter()\n",
        "obj3 = InstanceCounter()\n",
        "\n",
        "# Get the number of instances created\n",
        "print(InstanceCounter.get_instance_count())  # Output: 3\n"
      ]
    },
    {
      "cell_type": "markdown",
      "metadata": {
        "id": "LXMDI49ja7Uk"
      },
      "source": [
        "Explanation:\n",
        "Class Variable: instance_count is a class variable that keeps track of how many instances of InstanceCounter have been created.\n",
        "\n",
        "Constructor (__init__ method): Every time a new instance is created, the constructor increments the instance_count.\n",
        "\n",
        "Class Method: get_instance_count is a class method (indicated by the @classmethod decorator) that returns the current value of instance_count. It can be called on the class itself without needing an instance.\n",
        "\n",
        "Usage:\n",
        "When you create instances of InstanceCounter, the instance_count is incremented accordingly. You can retrieve the total count at any time using the class method get_instance_count."
      ]
    },
    {
      "cell_type": "markdown",
      "metadata": {
        "id": "lxtPzY4EbE-u"
      },
      "source": [
        "# Q15- Implement a static method in a class that checks if a given year is a leap year.\n",
        "\n",
        "You can implement a static method in a class to check if a given year is a leap year. Here's a simple example:"
      ]
    },
    {
      "cell_type": "code",
      "execution_count": null,
      "metadata": {
        "id": "1XHGMOkJbPS1"
      },
      "outputs": [],
      "source": [
        "class YearChecker:\n",
        "    @staticmethod\n",
        "    def is_leap_year(year):\n",
        "        \"\"\"Check if a given year is a leap year.\"\"\"\n",
        "        if (year % 4 == 0 and year % 100 != 0) or (year % 400 == 0):\n",
        "            return True\n",
        "        return False\n",
        "\n",
        "# Example usage:\n",
        "year = 2024\n",
        "if YearChecker.is_leap_year(year):\n",
        "    print(f\"{year} is a leap year.\")\n",
        "else:\n",
        "    print(f\"{year} is not a leap year.\")\n"
      ]
    },
    {
      "cell_type": "markdown",
      "metadata": {
        "id": "vQtAVsLwbWYU"
      },
      "source": [
        "Explanation:\n",
        "Static Method: The @staticmethod decorator indicates that is_leap_year does not require access to any instance or class-specific data. It can be called directly on the class itself.\n",
        "\n",
        "Leap Year Logic: The logic for determining a leap year is:\n",
        "\n",
        "A year is a leap year if it is divisible by 4.\n",
        "However, if it is divisible by 100, it is not a leap year unless it is also divisible by 400.\n",
        "Usage: You can call the static method directly on the class YearChecker without needing to create an instance.\n",
        "\n",
        "This implementation provides a clear and efficient way to check for leap years!"
      ]
    }
  ],
  "metadata": {
    "colab": {
      "provenance": []
    },
    "kernelspec": {
      "display_name": "Python 3",
      "name": "python3"
    },
    "language_info": {
      "name": "python"
    }
  },
  "nbformat": 4,
  "nbformat_minor": 0
}
